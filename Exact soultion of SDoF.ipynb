{
 "metadata": {
  "name": "",
  "signature": "sha256:405b50c6fe77446c6ce9a0b0587e72fcbdae7ca8dbb7a93ade539abdd073c84f"
 },
 "nbformat": 3,
 "nbformat_minor": 0,
 "worksheets": [
  {
   "cells": [
    {
     "cell_type": "markdown",
     "metadata": {},
     "source": [
      "$ m \\ddot{x} + c \\dot{x} + k x = F \\sin \\left( \\lambda t \\right) $\n",
      "\n",
      "$ \\ddot{x} + 2 \\eta \\omega_n \\dot{x} + \\omega_n^2 x = \\frac{F}{m} \\sin \\left( \\omega t \\right)$\n",
      "\n",
      "$ x(t) = \\left[ A \\cos (\\omega_d t) + B \\sin (\\omega_d t) \\right] \\exp \\left(-\\eta \\omega t\\right) + \\frac{F}{k} \\left[ \\frac{1}{(1-\\beta^2)^2+(2 \\eta \\beta)^2} \\right] \\left[ (1-\\beta^2) \\sin (\\lambda t) - 2 \\eta \\beta \\cos (\\lambda t) \\right] $\n",
      "\n",
      "$G = \\frac{F}{k} \\left[ \\frac{1}{(1-\\beta^2)^2+(2 \\eta \\beta)^2} \\right]$\n"
     ]
    },
    {
     "cell_type": "markdown",
     "metadata": {},
     "source": [
      "$ x(0) = A - 2 G \\eta \\beta  $\n",
      "\n",
      "$ \\dot{x} (0) = B \\omega_d - G \\lambda (\\beta^2-1) - A \\omega \\eta $"
     ]
    },
    {
     "cell_type": "markdown",
     "metadata": {},
     "source": [
      "$ A = x (0) + 2 \\eta \\beta G $\n",
      "\n",
      "$ B = \\frac{ \\dot{x}(0)+G \\lambda (\\beta^2-1) + \\left( x(0) + 2 \\eta \\beta G \\right) \\eta \\omega }{\\omega_d} $"
     ]
    },
    {
     "cell_type": "code",
     "collapsed": false,
     "input": [
      "M = 10.0\n",
      "K = 40.0\n",
      "C = 1.0\n",
      "F = 0.0\n",
      "L = 3.0\n",
      "x0 = 0.0\n",
      "v0 = 0.0\n",
      "\n",
      "Wn = sqrt(K/M)\n",
      "n = C/(2.0*M*Wn)\n",
      "b = L/Wn\n",
      "Wd = Wn*sqrt(1.0-n**2)\n",
      "G = (F/K)*(1.0/( (1-b)**2+(2.0*n*b**2) ))\n",
      "A = x0 + 2*n*b*G\n",
      "B = (v0+G*L*(b**2-1)+A*n*Wn)/Wd\n",
      "print Wn, n, Wd, G"
     ],
     "language": "python",
     "metadata": {},
     "outputs": [
      {
       "output_type": "stream",
       "stream": "stdout",
       "text": [
        "2.0 0.025 1.99937490231 0.0\n"
       ]
      }
     ],
     "prompt_number": 20
    },
    {
     "cell_type": "code",
     "collapsed": false,
     "input": [
      "time = linspace(0,200,10001)\n",
      "steady_state = G*( (1-b**2)*sin(L*time) - 2*n*b*cos(L*time) )\n",
      "initial_state = (A*cos(Wd*time)+B*sin(Wd*time))*exp(-n*Wn*time)\n",
      "#plot(time,steady_state)\n",
      "plot(time,initial_state)\n",
      "#plot(time,steady_state+initial_state)"
     ],
     "language": "python",
     "metadata": {},
     "outputs": [
      {
       "metadata": {},
       "output_type": "pyout",
       "prompt_number": 21,
       "text": [
        "[<matplotlib.lines.Line2D at 0x7f2bb819df50>]"
       ]
      },
      {
       "metadata": {},
       "output_type": "display_data",
       "png": "[encoded data removed]",
       "text": [
        "<matplotlib.figure.Figure at 0x7f2bb8349e90>"
       ]
      }
     ],
     "prompt_number": 21
    },
    {
     "cell_type": "code",
     "collapsed": false,
     "input": [],
     "language": "python",
     "metadata": {},
     "outputs": [],
     "prompt_number": 18
    },
    {
     "cell_type": "code",
     "collapsed": false,
     "input": [],
     "language": "python",
     "metadata": {},
     "outputs": []
    }
   ],
   "metadata": {}
  }
 ]
}